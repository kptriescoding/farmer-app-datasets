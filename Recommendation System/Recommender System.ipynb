{
 "cells": [
  {
   "cell_type": "code",
   "execution_count": 16,
   "id": "68a0f47b",
   "metadata": {},
   "outputs": [],
   "source": [
    "import numpy as np\n",
    "import pandas as pd"
   ]
  },
  {
   "cell_type": "code",
   "execution_count": 8,
   "id": "2b4e18db",
   "metadata": {},
   "outputs": [
    {
     "data": {
      "text/html": [
       "<div>\n",
       "<style scoped>\n",
       "    .dataframe tbody tr th:only-of-type {\n",
       "        vertical-align: middle;\n",
       "    }\n",
       "\n",
       "    .dataframe tbody tr th {\n",
       "        vertical-align: top;\n",
       "    }\n",
       "\n",
       "    .dataframe thead th {\n",
       "        text-align: right;\n",
       "    }\n",
       "</style>\n",
       "<table border=\"1\" class=\"dataframe\">\n",
       "  <thead>\n",
       "    <tr style=\"text-align: right;\">\n",
       "      <th></th>\n",
       "      <th>Crops</th>\n",
       "      <th>Distance</th>\n",
       "      <th>Prices</th>\n",
       "    </tr>\n",
       "  </thead>\n",
       "  <tbody>\n",
       "    <tr>\n",
       "      <th>0</th>\n",
       "      <td>Rubber</td>\n",
       "      <td>974</td>\n",
       "      <td>15</td>\n",
       "    </tr>\n",
       "    <tr>\n",
       "      <th>1</th>\n",
       "      <td>Rice</td>\n",
       "      <td>703</td>\n",
       "      <td>37</td>\n",
       "    </tr>\n",
       "    <tr>\n",
       "      <th>2</th>\n",
       "      <td>Wheat</td>\n",
       "      <td>725</td>\n",
       "      <td>37</td>\n",
       "    </tr>\n",
       "    <tr>\n",
       "      <th>3</th>\n",
       "      <td>Maize</td>\n",
       "      <td>661</td>\n",
       "      <td>104</td>\n",
       "    </tr>\n",
       "    <tr>\n",
       "      <th>4</th>\n",
       "      <td>Rubber</td>\n",
       "      <td>206</td>\n",
       "      <td>19</td>\n",
       "    </tr>\n",
       "    <tr>\n",
       "      <th>...</th>\n",
       "      <td>...</td>\n",
       "      <td>...</td>\n",
       "      <td>...</td>\n",
       "    </tr>\n",
       "    <tr>\n",
       "      <th>495</th>\n",
       "      <td>Barley</td>\n",
       "      <td>974</td>\n",
       "      <td>63</td>\n",
       "    </tr>\n",
       "    <tr>\n",
       "      <th>496</th>\n",
       "      <td>Wheat</td>\n",
       "      <td>983</td>\n",
       "      <td>31</td>\n",
       "    </tr>\n",
       "    <tr>\n",
       "      <th>497</th>\n",
       "      <td>Wheat</td>\n",
       "      <td>860</td>\n",
       "      <td>32</td>\n",
       "    </tr>\n",
       "    <tr>\n",
       "      <th>498</th>\n",
       "      <td>Wheat</td>\n",
       "      <td>776</td>\n",
       "      <td>38</td>\n",
       "    </tr>\n",
       "    <tr>\n",
       "      <th>499</th>\n",
       "      <td>Rubber</td>\n",
       "      <td>229</td>\n",
       "      <td>13</td>\n",
       "    </tr>\n",
       "  </tbody>\n",
       "</table>\n",
       "<p>500 rows × 3 columns</p>\n",
       "</div>"
      ],
      "text/plain": [
       "      Crops  Distance  Prices\n",
       "0    Rubber       974      15\n",
       "1      Rice       703      37\n",
       "2     Wheat       725      37\n",
       "3     Maize       661     104\n",
       "4    Rubber       206      19\n",
       "..      ...       ...     ...\n",
       "495  Barley       974      63\n",
       "496   Wheat       983      31\n",
       "497   Wheat       860      32\n",
       "498   Wheat       776      38\n",
       "499  Rubber       229      13\n",
       "\n",
       "[500 rows x 3 columns]"
      ]
     },
     "execution_count": 8,
     "metadata": {},
     "output_type": "execute_result"
    }
   ],
   "source": [
    "df=pd.read_csv(\"crop_data.csv\")\n",
    "df"
   ]
  },
  {
   "cell_type": "markdown",
   "id": "237112d4",
   "metadata": {},
   "source": [
    "## Score\n",
    "score=sqrt((A1x(distance-customer_distance))^2 + (A2xprices)^2)\n",
    "\n",
    "Current A1=0.7\n",
    "        A2=0.2"
   ]
  },
  {
   "cell_type": "code",
   "execution_count": 87,
   "id": "4ffdf58b",
   "metadata": {},
   "outputs": [],
   "source": [
    "def find_score(distance,cust_distance,price):\n",
    "    distance_score=0.7*(distance-cust_distance)**2\n",
    "    price_score=(0.2*price)**2\n",
    "    score=(distance_score+price_score)**0.5\n",
    "    return score   "
   ]
  },
  {
   "cell_type": "code",
   "execution_count": 88,
   "id": "baf4a1d6",
   "metadata": {},
   "outputs": [],
   "source": [
    "def find_min_score(df,crop_name,cust_distance):\n",
    "    df_crop=df[df.Crops==crop_name]\n",
    "    df_score=find_score(df_crop.Distance,cust_distance,df_crop.Prices)\n",
    "    print(cust_distance)\n",
    "    return df_score\n"
   ]
  },
  {
   "cell_type": "code",
   "execution_count": 89,
   "id": "671bb515",
   "metadata": {},
   "outputs": [
    {
     "name": "stdout",
     "output_type": "stream",
     "text": [
      "677\n",
      "289\n",
      "6.5038450166036395\n"
     ]
    }
   ],
   "source": [
    "df_score=find_min_score(df,\"Wheat\",np.random.randint(0,1000))\n",
    "# print(df_score)\n",
    "print(df_score.idxmin())\n",
    "print(df_score.min())"
   ]
  },
  {
   "cell_type": "code",
   "execution_count": 94,
   "id": "0751e815",
   "metadata": {},
   "outputs": [
    {
     "data": {
      "text/plain": [
       "6.5038450166036395"
      ]
     },
     "execution_count": 94,
     "metadata": {},
     "output_type": "execute_result"
    }
   ],
   "source": [
    "df_score.loc[289]"
   ]
  },
  {
   "cell_type": "code",
   "execution_count": 96,
   "id": "5afcf00a",
   "metadata": {},
   "outputs": [
    {
     "data": {
      "text/plain": [
       "Crops       Wheat\n",
       "Distance      680\n",
       "Prices         30\n",
       "Name: 289, dtype: object"
      ]
     },
     "execution_count": 96,
     "metadata": {},
     "output_type": "execute_result"
    }
   ],
   "source": [
    "df.loc[289]"
   ]
  },
  {
   "cell_type": "code",
   "execution_count": null,
   "id": "48f47a92",
   "metadata": {},
   "outputs": [],
   "source": []
  }
 ],
 "metadata": {
  "kernelspec": {
   "display_name": "Python 3 (ipykernel)",
   "language": "python",
   "name": "python3"
  },
  "language_info": {
   "codemirror_mode": {
    "name": "ipython",
    "version": 3
   },
   "file_extension": ".py",
   "mimetype": "text/x-python",
   "name": "python",
   "nbconvert_exporter": "python",
   "pygments_lexer": "ipython3",
   "version": "3.8.10"
  }
 },
 "nbformat": 4,
 "nbformat_minor": 5
}
